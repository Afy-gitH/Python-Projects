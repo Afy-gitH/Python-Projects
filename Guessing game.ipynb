{
 "cells": [
  {
   "cell_type": "code",
   "execution_count": 1,
   "id": "f1b91a44",
   "metadata": {},
   "outputs": [
    {
     "name": "stdout",
     "output_type": "stream",
     "text": [
      "input the upper limit : 30\n",
      "guess a number between 1 and 30: 15\n",
      "Sorry, guess again. Too low\n",
      "guess a number between 1 and 30: 25\n",
      "Sorry, guess again. Too Big\n",
      "guess a number between 1 and 30: 20\n",
      "Sorry, guess again. Too low\n",
      "guess a number between 1 and 30: 23\n",
      "Sorry, guess again. Too low\n",
      "guess a number between 1 and 30: 24\n",
      "YAy! your guess is right 24\n"
     ]
    }
   ],
   "source": [
    "import random\n",
    "\n",
    "def guess(x):\n",
    "    random_number = random.randint(1,x)\n",
    "    guess = 0\n",
    "    while guess != random_number:\n",
    "        guess = int(input(f'guess a number between 1 and {x}: '))\n",
    "        if guess < random_number:\n",
    "            print(\"Sorry, guess again. Too low\")\n",
    "        elif guess > random_number:\n",
    "            print(\"Sorry, guess again. Too Big\")\n",
    "    print(f\"YAy! your guess is right {guess}\")\n",
    "            \n",
    "guess(int(input(\"input the upper limit : \")))"
   ]
  },
  {
   "cell_type": "code",
   "execution_count": null,
   "id": "da85ab72",
   "metadata": {},
   "outputs": [],
   "source": []
  }
 ],
 "metadata": {
  "kernelspec": {
   "display_name": "Python 3 (ipykernel)",
   "language": "python",
   "name": "python3"
  },
  "language_info": {
   "codemirror_mode": {
    "name": "ipython",
    "version": 3
   },
   "file_extension": ".py",
   "mimetype": "text/x-python",
   "name": "python",
   "nbconvert_exporter": "python",
   "pygments_lexer": "ipython3",
   "version": "3.9.16"
  }
 },
 "nbformat": 4,
 "nbformat_minor": 5
}
