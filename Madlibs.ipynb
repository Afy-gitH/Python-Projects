{
 "cells": [
  {
   "cell_type": "code",
   "execution_count": null,
   "id": "5d0aaa72",
   "metadata": {},
   "outputs": [],
   "source": [
    "youtuber = '' # some string\n",
    "print(\"subscribe to {}\".fromat(youtuber))\n",
    "adj=input(\"Adjective: \")\n",
    "madlib = {\"Compurter programming is so {adj}\"}"
   ]
  }
 ],
 "metadata": {
  "kernelspec": {
   "display_name": "Python 3 (ipykernel)",
   "language": "python",
   "name": "python3"
  },
  "language_info": {
   "codemirror_mode": {
    "name": "ipython",
    "version": 3
   },
   "file_extension": ".py",
   "mimetype": "text/x-python",
   "name": "python",
   "nbconvert_exporter": "python",
   "pygments_lexer": "ipython3",
   "version": "3.9.16"
  }
 },
 "nbformat": 4,
 "nbformat_minor": 5
}
