{
 "cells": [
  {
   "cell_type": "code",
   "execution_count": 1,
   "id": "f60ee7a9",
   "metadata": {},
   "outputs": [
    {
     "name": "stdout",
     "output_type": "stream",
     "text": [
      "What is your choice: \n",
      " 'r' for rock, 'p' for paper, 's' for scissors: u\n",
      "Oops! Wrong choice. Please enter a valid option.\n",
      "What is your choice: \n",
      " 'r' for rock, 'p' for paper, 's' for scissors: s\n",
      "Your choice s, computer choice r\n",
      "You lost!\n"
     ]
    }
   ],
   "source": [
    "import random\n",
    "\n",
    "def play():\n",
    "    user = input(\"What is your choice: \\n 'r' for rock, 'p' for paper, 's' for scissors: \").lower()\n",
    "    if user not in ['r', 'p', 's']:\n",
    "        print(\"Oops! Wrong choice. Please enter a valid option.\")\n",
    "        user = input(\"What is your choice: \\n 'r' for rock, 'p' for paper, 's' for scissors: \").lower()\n",
    "    computer = random.choice(['r', 'p', 's'])\n",
    "    if user == computer:\n",
    "        print(f'Your choice {user}, computer choice {computer}')\n",
    "        print(\"It's a tie\")\n",
    "    elif winner(user, computer):\n",
    "        print(f'Your choice {user}, computer choice {computer}')\n",
    "        print('You won!') \n",
    "    else:\n",
    "        print(f'Your choice {user}, computer choice {computer}')\n",
    "        print('You lost!')\n",
    "\n",
    "def winner(player, opponent):\n",
    "    if (player == 'r' and opponent == 's') or (player == 's' and opponent == 'p') or (player == 'p' and opponent == 'r'):\n",
    "        return True\n",
    "\n",
    "play()\n",
    "\n",
    "\n"
   ]
  },
  {
   "cell_type": "code",
   "execution_count": null,
   "id": "b5c2629b",
   "metadata": {},
   "outputs": [],
   "source": []
  },
  {
   "cell_type": "code",
   "execution_count": null,
   "id": "1bbd5492",
   "metadata": {},
   "outputs": [],
   "source": []
  }
 ],
 "metadata": {
  "kernelspec": {
   "display_name": "Python 3 (ipykernel)",
   "language": "python",
   "name": "python3"
  },
  "language_info": {
   "codemirror_mode": {
    "name": "ipython",
    "version": 3
   },
   "file_extension": ".py",
   "mimetype": "text/x-python",
   "name": "python",
   "nbconvert_exporter": "python",
   "pygments_lexer": "ipython3",
   "version": "3.9.16"
  }
 },
 "nbformat": 4,
 "nbformat_minor": 5
}
