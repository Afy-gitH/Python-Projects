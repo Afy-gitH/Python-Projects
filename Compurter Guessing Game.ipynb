{
 "cells": [
  {
   "cell_type": "code",
   "execution_count": 6,
   "id": "c65e6858",
   "metadata": {},
   "outputs": [
    {
     "name": "stdout",
     "output_type": "stream",
     "text": [
      "what's the upper limit you are aiming for :80\n",
      "Is 21 too high (H), toom low (L), or correct (C)l\n",
      "Is 27 too high (H), toom low (L), or correct (C)l\n",
      "Is 77 too high (H), toom low (L), or correct (C)h\n",
      "Is 68 too high (H), toom low (L), or correct (C)h\n",
      "Is 59 too high (H), toom low (L), or correct (C)l\n",
      "Is 62 too high (H), toom low (L), or correct (C)l\n",
      "Is 67 too high (H), toom low (L), or correct (C)c\n",
      "yay found your guess : 67\n"
     ]
    }
   ],
   "source": [
    "import random\n",
    "def computer_guess(num):\n",
    "    low = 1\n",
    "    high = num\n",
    "    feedback = \" \"\n",
    "    while feedback != 'c':\n",
    "        guess = random.randint(low, high)\n",
    "        feedback = input(f\"Is {guess} too high (H), toom low (L), or correct (C)\").lower()\n",
    "        if feedback == 'h':\n",
    "            #the guess is too high , we need to udjust the upper bound\n",
    "            high = guess - 1\n",
    "        elif feedback == 'l':\n",
    "            low = guess + 1\n",
    "    print(f'yay found your guess : {guess}')\n",
    "computer_guess(int(input(\"what's the upper limit you are aiming for :\")))"
   ]
  },
  {
   "cell_type": "code",
   "execution_count": null,
   "id": "410e2cf8",
   "metadata": {},
   "outputs": [],
   "source": []
  }
 ],
 "metadata": {
  "kernelspec": {
   "display_name": "Python 3 (ipykernel)",
   "language": "python",
   "name": "python3"
  },
  "language_info": {
   "codemirror_mode": {
    "name": "ipython",
    "version": 3
   },
   "file_extension": ".py",
   "mimetype": "text/x-python",
   "name": "python",
   "nbconvert_exporter": "python",
   "pygments_lexer": "ipython3",
   "version": "3.9.16"
  }
 },
 "nbformat": 4,
 "nbformat_minor": 5
}
